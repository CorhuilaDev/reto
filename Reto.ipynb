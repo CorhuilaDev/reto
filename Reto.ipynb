{
  "nbformat": 4,
  "nbformat_minor": 0,
  "metadata": {
    "colab": {
      "name": "Reto.ipynb",
      "provenance": [],
      "authorship_tag": "ABX9TyPlRG1tt5+yQQb5pG1gwWLg",
      "include_colab_link": true
    },
    "kernelspec": {
      "name": "python3",
      "display_name": "Python 3"
    },
    "language_info": {
      "name": "python"
    }
  },
  "cells": [
    {
      "cell_type": "markdown",
      "metadata": {
        "id": "view-in-github",
        "colab_type": "text"
      },
      "source": [
        "<a href=\"https://colab.research.google.com/github/CorhuilaDev/reto/blob/main/Reto.ipynb\" target=\"_parent\"><img src=\"https://colab.research.google.com/assets/colab-badge.svg\" alt=\"Open In Colab\"/></a>"
      ]
    },
    {
      "cell_type": "markdown",
      "metadata": {
        "id": "x3PIL9M3nSzU"
      },
      "source": [
        "Se hace la carga del archivo que se va a entrenar, se toma una muestra de 41276 registros"
      ]
    },
    {
      "cell_type": "code",
      "metadata": {
        "colab": {
          "resources": {
            "http://localhost:8080/nbextensions/google.colab/files.js": {
              "data": "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",
              "ok": true,
              "headers": [
                [
                  "content-type",
                  "application/javascript"
                ]
              ],
              "status": 200,
              "status_text": ""
            }
          },
          "base_uri": "https://localhost:8080/",
          "height": 38
        },
        "id": "nu2O3TJN9UBd",
        "outputId": "d2c4763e-5ec5-4036-b592-0635cc8f4c70"
      },
      "source": [
        "from google.colab import files\n",
        "uploaded=files.upload()\n"
      ],
      "execution_count": 1,
      "outputs": [
        {
          "output_type": "display_data",
          "data": {
            "text/html": [
              "\n",
              "     <input type=\"file\" id=\"files-95a6b852-002f-4096-b106-01940d6ddddd\" name=\"files[]\" multiple disabled\n",
              "        style=\"border:none\" />\n",
              "     <output id=\"result-95a6b852-002f-4096-b106-01940d6ddddd\">\n",
              "      Upload widget is only available when the cell has been executed in the\n",
              "      current browser session. Please rerun this cell to enable.\n",
              "      </output>\n",
              "      <script src=\"/nbextensions/google.colab/files.js\"></script> "
            ],
            "text/plain": [
              "<IPython.core.display.HTML object>"
            ]
          },
          "metadata": {}
        }
      ]
    },
    {
      "cell_type": "markdown",
      "metadata": {
        "id": "yPQZe_eJnmv3"
      },
      "source": [
        "se almacena los datos con pandas en la variable datos, y se muestra que hayan cargado"
      ]
    },
    {
      "cell_type": "code",
      "metadata": {
        "colab": {
          "base_uri": "https://localhost:8080/",
          "height": 541
        },
        "id": "5RxmNgmcGaLT",
        "outputId": "784659c4-828e-4957-8ba6-f88abeb6dd04"
      },
      "source": [
        "import io\n",
        "import pandas as pd\n",
        "datos = pd.read_csv(io.BytesIO(uploaded['datos2.csv']))\n",
        "\n",
        "datos"
      ],
      "execution_count": null,
      "outputs": [
        {
          "output_type": "execute_result",
          "data": {
            "text/html": [
              "<div>\n",
              "<style scoped>\n",
              "    .dataframe tbody tr th:only-of-type {\n",
              "        vertical-align: middle;\n",
              "    }\n",
              "\n",
              "    .dataframe tbody tr th {\n",
              "        vertical-align: top;\n",
              "    }\n",
              "\n",
              "    .dataframe thead th {\n",
              "        text-align: right;\n",
              "    }\n",
              "</style>\n",
              "<table border=\"1\" class=\"dataframe\">\n",
              "  <thead>\n",
              "    <tr style=\"text-align: right;\">\n",
              "      <th></th>\n",
              "      <th>id</th>\n",
              "      <th>cuenta</th>\n",
              "      <th>periodo</th>\n",
              "      <th>totalactiva</th>\n",
              "      <th>clase</th>\n",
              "      <th>estrato</th>\n",
              "      <th>municipio</th>\n",
              "      <th>ciclo</th>\n",
              "      <th>ubicacion</th>\n",
              "    </tr>\n",
              "  </thead>\n",
              "  <tbody>\n",
              "    <tr>\n",
              "      <th>0</th>\n",
              "      <td>1</td>\n",
              "      <td>D816B37FCE924B570E04F67BEDED80CA</td>\n",
              "      <td>2</td>\n",
              "      <td>10850</td>\n",
              "      <td>Alumbrado Regulado</td>\n",
              "      <td>0</td>\n",
              "      <td>ALTAMIRA</td>\n",
              "      <td>38</td>\n",
              "      <td>U</td>\n",
              "    </tr>\n",
              "    <tr>\n",
              "      <th>1</th>\n",
              "      <td>2</td>\n",
              "      <td>3DCAA9A3BB94316AC6059871B7308108</td>\n",
              "      <td>2</td>\n",
              "      <td>15323</td>\n",
              "      <td>Alumbrado Regulado</td>\n",
              "      <td>0</td>\n",
              "      <td>SUAZA</td>\n",
              "      <td>38</td>\n",
              "      <td>U</td>\n",
              "    </tr>\n",
              "    <tr>\n",
              "      <th>2</th>\n",
              "      <td>3</td>\n",
              "      <td>83B7CFD6CFFA47E9FA22446DF12E7719</td>\n",
              "      <td>2</td>\n",
              "      <td>10401</td>\n",
              "      <td>Alumbrado Regulado</td>\n",
              "      <td>0</td>\n",
              "      <td>AGRADO</td>\n",
              "      <td>38</td>\n",
              "      <td>U</td>\n",
              "    </tr>\n",
              "    <tr>\n",
              "      <th>3</th>\n",
              "      <td>4</td>\n",
              "      <td>0CA7B651EF0A1F0A38BBB3466574F5ED</td>\n",
              "      <td>2</td>\n",
              "      <td>134</td>\n",
              "      <td>Alumbrado Regulado</td>\n",
              "      <td>0</td>\n",
              "      <td>GARZON</td>\n",
              "      <td>38</td>\n",
              "      <td>U</td>\n",
              "    </tr>\n",
              "    <tr>\n",
              "      <th>4</th>\n",
              "      <td>5</td>\n",
              "      <td>DF44A1F150454E6353938530372FA3DD</td>\n",
              "      <td>2</td>\n",
              "      <td>135</td>\n",
              "      <td>Alumbrado Regulado</td>\n",
              "      <td>0</td>\n",
              "      <td>GUADALUPE</td>\n",
              "      <td>38</td>\n",
              "      <td>U</td>\n",
              "    </tr>\n",
              "    <tr>\n",
              "      <th>...</th>\n",
              "      <td>...</td>\n",
              "      <td>...</td>\n",
              "      <td>...</td>\n",
              "      <td>...</td>\n",
              "      <td>...</td>\n",
              "      <td>...</td>\n",
              "      <td>...</td>\n",
              "      <td>...</td>\n",
              "      <td>...</td>\n",
              "    </tr>\n",
              "    <tr>\n",
              "      <th>10364</th>\n",
              "      <td>29495</td>\n",
              "      <td>ABA6F864CDB01704B88DEBB01475DD89</td>\n",
              "      <td>3</td>\n",
              "      <td>55</td>\n",
              "      <td>Comercial</td>\n",
              "      <td>0</td>\n",
              "      <td>SAN AGUSTIN</td>\n",
              "      <td>54</td>\n",
              "      <td>R</td>\n",
              "    </tr>\n",
              "    <tr>\n",
              "      <th>10365</th>\n",
              "      <td>29496</td>\n",
              "      <td>2A2EE3AAD4D23A277D8EBCD8589633C9</td>\n",
              "      <td>3</td>\n",
              "      <td>797</td>\n",
              "      <td>Comercial</td>\n",
              "      <td>0</td>\n",
              "      <td>TELLO</td>\n",
              "      <td>80</td>\n",
              "      <td>U</td>\n",
              "    </tr>\n",
              "    <tr>\n",
              "      <th>10366</th>\n",
              "      <td>29497</td>\n",
              "      <td>891EAF14845C7B3584CB7ECEEB8E5242</td>\n",
              "      <td>3</td>\n",
              "      <td>1201</td>\n",
              "      <td>Comercial</td>\n",
              "      <td>0</td>\n",
              "      <td>IQUIRA</td>\n",
              "      <td>80</td>\n",
              "      <td>U</td>\n",
              "    </tr>\n",
              "    <tr>\n",
              "      <th>10367</th>\n",
              "      <td>29498</td>\n",
              "      <td>512254DCE822057A7C09AC81EBEA7004</td>\n",
              "      <td>3</td>\n",
              "      <td>1</td>\n",
              "      <td>Comercial</td>\n",
              "      <td>0</td>\n",
              "      <td>TERUEL</td>\n",
              "      <td>21</td>\n",
              "      <td>U</td>\n",
              "    </tr>\n",
              "    <tr>\n",
              "      <th>10368</th>\n",
              "      <td>29499</td>\n",
              "      <td>2A251749C0A55A1E278BB7A660ADECF1</td>\n",
              "      <td>3</td>\n",
              "      <td>7</td>\n",
              "      <td>Comercial</td>\n",
              "      <td>0</td>\n",
              "      <td>YAGUARA</td>\n",
              "      <td>21</td>\n",
              "      <td>U</td>\n",
              "    </tr>\n",
              "  </tbody>\n",
              "</table>\n",
              "<p>10369 rows × 9 columns</p>\n",
              "</div>"
            ],
            "text/plain": [
              "          id                            cuenta  ...  ciclo  ubicacion\n",
              "0          1  D816B37FCE924B570E04F67BEDED80CA  ...     38          U\n",
              "1          2  3DCAA9A3BB94316AC6059871B7308108  ...     38          U\n",
              "2          3  83B7CFD6CFFA47E9FA22446DF12E7719  ...     38          U\n",
              "3          4  0CA7B651EF0A1F0A38BBB3466574F5ED  ...     38          U\n",
              "4          5  DF44A1F150454E6353938530372FA3DD  ...     38          U\n",
              "...      ...                               ...  ...    ...        ...\n",
              "10364  29495  ABA6F864CDB01704B88DEBB01475DD89  ...     54          R\n",
              "10365  29496  2A2EE3AAD4D23A277D8EBCD8589633C9  ...     80          U\n",
              "10366  29497  891EAF14845C7B3584CB7ECEEB8E5242  ...     80          U\n",
              "10367  29498  512254DCE822057A7C09AC81EBEA7004  ...     21          U\n",
              "10368  29499  2A251749C0A55A1E278BB7A660ADECF1  ...     21          U\n",
              "\n",
              "[10369 rows x 9 columns]"
            ]
          },
          "metadata": {},
          "execution_count": 32
        }
      ]
    },
    {
      "cell_type": "markdown",
      "metadata": {
        "id": "paXjQ9JGnxfY"
      },
      "source": [
        "luego se muestra la informacion de los datos, donde nos muestra la cantidad de columnas, y tipo de datos qeu encontramos, y si hay columnas con valores nulos "
      ]
    },
    {
      "cell_type": "code",
      "metadata": {
        "colab": {
          "base_uri": "https://localhost:8080/"
        },
        "id": "njbzsacamvQs",
        "outputId": "bd8ef481-f678-446c-e4ac-af2418498a85"
      },
      "source": [
        "datos.info()"
      ],
      "execution_count": null,
      "outputs": [
        {
          "output_type": "stream",
          "name": "stdout",
          "text": [
            "<class 'pandas.core.frame.DataFrame'>\n",
            "RangeIndex: 10369 entries, 0 to 10368\n",
            "Data columns (total 9 columns):\n",
            " #   Column       Non-Null Count  Dtype \n",
            "---  ------       --------------  ----- \n",
            " 0   id           10369 non-null  int64 \n",
            " 1   cuenta       10369 non-null  object\n",
            " 2   periodo      10369 non-null  int64 \n",
            " 3   totalactiva  10369 non-null  int64 \n",
            " 4   clase        10369 non-null  object\n",
            " 5   estrato      10369 non-null  int64 \n",
            " 6   municipio    10369 non-null  object\n",
            " 7   ciclo        10369 non-null  int64 \n",
            " 8   ubicacion    10369 non-null  object\n",
            "dtypes: int64(5), object(4)\n",
            "memory usage: 729.2+ KB\n"
          ]
        }
      ]
    },
    {
      "cell_type": "markdown",
      "metadata": {
        "id": "C6hBFtAToU4a"
      },
      "source": [
        "hacemos una descripcion de los datos numericos, desde un punto de vista estadistico"
      ]
    },
    {
      "cell_type": "code",
      "metadata": {
        "colab": {
          "base_uri": "https://localhost:8080/",
          "height": 297
        },
        "id": "54mQ1vMFoWnV",
        "outputId": "460aea79-fb96-4b03-f815-e55942ee8c19"
      },
      "source": [
        "datos.describe()"
      ],
      "execution_count": null,
      "outputs": [
        {
          "output_type": "execute_result",
          "data": {
            "text/html": [
              "<div>\n",
              "<style scoped>\n",
              "    .dataframe tbody tr th:only-of-type {\n",
              "        vertical-align: middle;\n",
              "    }\n",
              "\n",
              "    .dataframe tbody tr th {\n",
              "        vertical-align: top;\n",
              "    }\n",
              "\n",
              "    .dataframe thead th {\n",
              "        text-align: right;\n",
              "    }\n",
              "</style>\n",
              "<table border=\"1\" class=\"dataframe\">\n",
              "  <thead>\n",
              "    <tr style=\"text-align: right;\">\n",
              "      <th></th>\n",
              "      <th>id</th>\n",
              "      <th>periodo</th>\n",
              "      <th>totalactiva</th>\n",
              "      <th>estrato</th>\n",
              "      <th>ciclo</th>\n",
              "    </tr>\n",
              "  </thead>\n",
              "  <tbody>\n",
              "    <tr>\n",
              "      <th>count</th>\n",
              "      <td>10369.000000</td>\n",
              "      <td>10369.000000</td>\n",
              "      <td>10369.000000</td>\n",
              "      <td>10369.000000</td>\n",
              "      <td>10369.000000</td>\n",
              "    </tr>\n",
              "    <tr>\n",
              "      <th>mean</th>\n",
              "      <td>18234.808468</td>\n",
              "      <td>2.033851</td>\n",
              "      <td>1595.270325</td>\n",
              "      <td>0.147362</td>\n",
              "      <td>35.987077</td>\n",
              "    </tr>\n",
              "    <tr>\n",
              "      <th>std</th>\n",
              "      <td>9602.376661</td>\n",
              "      <td>0.809325</td>\n",
              "      <td>5396.705186</td>\n",
              "      <td>0.714626</td>\n",
              "      <td>25.044644</td>\n",
              "    </tr>\n",
              "    <tr>\n",
              "      <th>min</th>\n",
              "      <td>1.000000</td>\n",
              "      <td>1.000000</td>\n",
              "      <td>1.000000</td>\n",
              "      <td>0.000000</td>\n",
              "      <td>2.000000</td>\n",
              "    </tr>\n",
              "    <tr>\n",
              "      <th>25%</th>\n",
              "      <td>10356.000000</td>\n",
              "      <td>1.000000</td>\n",
              "      <td>68.000000</td>\n",
              "      <td>0.000000</td>\n",
              "      <td>15.000000</td>\n",
              "    </tr>\n",
              "    <tr>\n",
              "      <th>50%</th>\n",
              "      <td>20336.000000</td>\n",
              "      <td>2.000000</td>\n",
              "      <td>217.000000</td>\n",
              "      <td>0.000000</td>\n",
              "      <td>31.000000</td>\n",
              "    </tr>\n",
              "    <tr>\n",
              "      <th>75%</th>\n",
              "      <td>26907.000000</td>\n",
              "      <td>3.000000</td>\n",
              "      <td>700.000000</td>\n",
              "      <td>0.000000</td>\n",
              "      <td>58.000000</td>\n",
              "    </tr>\n",
              "    <tr>\n",
              "      <th>max</th>\n",
              "      <td>29499.000000</td>\n",
              "      <td>3.000000</td>\n",
              "      <td>96933.000000</td>\n",
              "      <td>6.000000</td>\n",
              "      <td>129.000000</td>\n",
              "    </tr>\n",
              "  </tbody>\n",
              "</table>\n",
              "</div>"
            ],
            "text/plain": [
              "                 id       periodo   totalactiva       estrato         ciclo\n",
              "count  10369.000000  10369.000000  10369.000000  10369.000000  10369.000000\n",
              "mean   18234.808468      2.033851   1595.270325      0.147362     35.987077\n",
              "std     9602.376661      0.809325   5396.705186      0.714626     25.044644\n",
              "min        1.000000      1.000000      1.000000      0.000000      2.000000\n",
              "25%    10356.000000      1.000000     68.000000      0.000000     15.000000\n",
              "50%    20336.000000      2.000000    217.000000      0.000000     31.000000\n",
              "75%    26907.000000      3.000000    700.000000      0.000000     58.000000\n",
              "max    29499.000000      3.000000  96933.000000      6.000000    129.000000"
            ]
          },
          "metadata": {},
          "execution_count": 34
        }
      ]
    },
    {
      "cell_type": "markdown",
      "metadata": {
        "id": "HwESVmC0o8fB"
      },
      "source": [
        "vamos y graficamos un histograma"
      ]
    },
    {
      "cell_type": "code",
      "metadata": {
        "colab": {
          "base_uri": "https://localhost:8080/",
          "height": 400
        },
        "id": "s6g3_1VFo_NQ",
        "outputId": "e0a2af1d-20db-4bca-cb6a-247c8e08c12b"
      },
      "source": [
        "datos.hist()"
      ],
      "execution_count": null,
      "outputs": [
        {
          "output_type": "execute_result",
          "data": {
            "text/plain": [
              "array([[<matplotlib.axes._subplots.AxesSubplot object at 0x7fa7e3175c10>,\n",
              "        <matplotlib.axes._subplots.AxesSubplot object at 0x7fa7e310bd90>],\n",
              "       [<matplotlib.axes._subplots.AxesSubplot object at 0x7fa7e30c7450>,\n",
              "        <matplotlib.axes._subplots.AxesSubplot object at 0x7fa7e3076ad0>],\n",
              "       [<matplotlib.axes._subplots.AxesSubplot object at 0x7fa7e3039190>,\n",
              "        <matplotlib.axes._subplots.AxesSubplot object at 0x7fa7e2fed810>]],\n",
              "      dtype=object)"
            ]
          },
          "metadata": {},
          "execution_count": 35
        },
        {
          "output_type": "display_data",
          "data": {
            "image/png": "[encoded data removed]",
            "text/plain": [
              "<Figure size 432x288 with 6 Axes>"
            ]
          },
          "metadata": {
            "needs_background": "light"
          }
        }
      ]
    },
    {
      "cell_type": "markdown",
      "metadata": {
        "id": "CtfPBhBipaTF"
      },
      "source": [
        "limpiamos los datos y seleccionamos las columnas que vamos a eliminar"
      ]
    },
    {
      "cell_type": "code",
      "metadata": {
        "id": "4ZnPpt7WpemQ"
      },
      "source": [
        "datos= datos.drop(columns=['id'])\n"
      ],
      "execution_count": null,
      "outputs": []
    },
    {
      "cell_type": "code",
      "metadata": {
        "colab": {
          "base_uri": "https://localhost:8080/",
          "height": 504
        },
        "id": "ClVkjKsIp-6e",
        "outputId": "0dd7aac8-145c-4f00-8922-d0be0454c513"
      },
      "source": [
        "datos"
      ],
      "execution_count": null,
      "outputs": [
        {
          "output_type": "execute_result",
          "data": {
            "text/html": [
              "<div>\n",
              "<style scoped>\n",
              "    .dataframe tbody tr th:only-of-type {\n",
              "        vertical-align: middle;\n",
              "    }\n",
              "\n",
              "    .dataframe tbody tr th {\n",
              "        vertical-align: top;\n",
              "    }\n",
              "\n",
              "    .dataframe thead th {\n",
              "        text-align: right;\n",
              "    }\n",
              "</style>\n",
              "<table border=\"1\" class=\"dataframe\">\n",
              "  <thead>\n",
              "    <tr style=\"text-align: right;\">\n",
              "      <th></th>\n",
              "      <th>cuenta</th>\n",
              "      <th>periodo</th>\n",
              "      <th>totalactiva</th>\n",
              "      <th>clase</th>\n",
              "      <th>estrato</th>\n",
              "      <th>municipio</th>\n",
              "      <th>ciclo</th>\n",
              "      <th>ubicacion</th>\n",
              "    </tr>\n",
              "  </thead>\n",
              "  <tbody>\n",
              "    <tr>\n",
              "      <th>0</th>\n",
              "      <td>D816B37FCE924B570E04F67BEDED80CA</td>\n",
              "      <td>01/02/10</td>\n",
              "      <td>10850</td>\n",
              "      <td>Alumbrado Regulado</td>\n",
              "      <td>0</td>\n",
              "      <td>ALTAMIRA</td>\n",
              "      <td>38</td>\n",
              "      <td>U</td>\n",
              "    </tr>\n",
              "    <tr>\n",
              "      <th>1</th>\n",
              "      <td>3DCAA9A3BB94316AC6059871B7308108</td>\n",
              "      <td>01/02/10</td>\n",
              "      <td>15323</td>\n",
              "      <td>Alumbrado Regulado</td>\n",
              "      <td>0</td>\n",
              "      <td>SUAZA</td>\n",
              "      <td>38</td>\n",
              "      <td>U</td>\n",
              "    </tr>\n",
              "    <tr>\n",
              "      <th>2</th>\n",
              "      <td>83B7CFD6CFFA47E9FA22446DF12E7719</td>\n",
              "      <td>01/02/10</td>\n",
              "      <td>10401</td>\n",
              "      <td>Alumbrado Regulado</td>\n",
              "      <td>0</td>\n",
              "      <td>AGRADO</td>\n",
              "      <td>38</td>\n",
              "      <td>U</td>\n",
              "    </tr>\n",
              "    <tr>\n",
              "      <th>3</th>\n",
              "      <td>0CA7B651EF0A1F0A38BBB3466574F5ED</td>\n",
              "      <td>01/02/10</td>\n",
              "      <td>134</td>\n",
              "      <td>Alumbrado Regulado</td>\n",
              "      <td>0</td>\n",
              "      <td>GARZON</td>\n",
              "      <td>38</td>\n",
              "      <td>U</td>\n",
              "    </tr>\n",
              "    <tr>\n",
              "      <th>4</th>\n",
              "      <td>DF44A1F150454E6353938530372FA3DD</td>\n",
              "      <td>01/02/10</td>\n",
              "      <td>135</td>\n",
              "      <td>Alumbrado Regulado</td>\n",
              "      <td>0</td>\n",
              "      <td>GUADALUPE</td>\n",
              "      <td>38</td>\n",
              "      <td>U</td>\n",
              "    </tr>\n",
              "    <tr>\n",
              "      <th>...</th>\n",
              "      <td>...</td>\n",
              "      <td>...</td>\n",
              "      <td>...</td>\n",
              "      <td>...</td>\n",
              "      <td>...</td>\n",
              "      <td>...</td>\n",
              "      <td>...</td>\n",
              "      <td>...</td>\n",
              "    </tr>\n",
              "    <tr>\n",
              "      <th>41271</th>\n",
              "      <td>D254EB704B818C2969E71B8025830855</td>\n",
              "      <td>01/12/10</td>\n",
              "      <td>263</td>\n",
              "      <td>Comercial</td>\n",
              "      <td>0</td>\n",
              "      <td>BARAYA</td>\n",
              "      <td>22</td>\n",
              "      <td>U</td>\n",
              "    </tr>\n",
              "    <tr>\n",
              "      <th>41272</th>\n",
              "      <td>EF07480FB64A7E4F76585DCFA17C3CB4</td>\n",
              "      <td>01/12/10</td>\n",
              "      <td>5317</td>\n",
              "      <td>Comercial</td>\n",
              "      <td>0</td>\n",
              "      <td>NEIVA</td>\n",
              "      <td>81</td>\n",
              "      <td>U</td>\n",
              "    </tr>\n",
              "    <tr>\n",
              "      <th>41273</th>\n",
              "      <td>B62FEF1941AA938D00800484A0568CF2</td>\n",
              "      <td>01/12/10</td>\n",
              "      <td>1950</td>\n",
              "      <td>Comercial</td>\n",
              "      <td>0</td>\n",
              "      <td>NEIVA</td>\n",
              "      <td>81</td>\n",
              "      <td>U</td>\n",
              "    </tr>\n",
              "    <tr>\n",
              "      <th>41274</th>\n",
              "      <td>85B0948C7208035C25875D0B1F3F9EAB</td>\n",
              "      <td>01/12/10</td>\n",
              "      <td>108</td>\n",
              "      <td>Comercial</td>\n",
              "      <td>0</td>\n",
              "      <td>PITALITO</td>\n",
              "      <td>57</td>\n",
              "      <td>U</td>\n",
              "    </tr>\n",
              "    <tr>\n",
              "      <th>41275</th>\n",
              "      <td>68A333379DE781172A21CB9A5938EC71</td>\n",
              "      <td>01/12/10</td>\n",
              "      <td>33</td>\n",
              "      <td>Comercial</td>\n",
              "      <td>0</td>\n",
              "      <td>PITALITO</td>\n",
              "      <td>57</td>\n",
              "      <td>U</td>\n",
              "    </tr>\n",
              "  </tbody>\n",
              "</table>\n",
              "<p>41276 rows × 8 columns</p>\n",
              "</div>"
            ],
            "text/plain": [
              "                                 cuenta   periodo  ...  ciclo ubicacion\n",
              "0      D816B37FCE924B570E04F67BEDED80CA  01/02/10  ...     38         U\n",
              "1      3DCAA9A3BB94316AC6059871B7308108  01/02/10  ...     38         U\n",
              "2      83B7CFD6CFFA47E9FA22446DF12E7719  01/02/10  ...     38         U\n",
              "3      0CA7B651EF0A1F0A38BBB3466574F5ED  01/02/10  ...     38         U\n",
              "4      DF44A1F150454E6353938530372FA3DD  01/02/10  ...     38         U\n",
              "...                                 ...       ...  ...    ...       ...\n",
              "41271  D254EB704B818C2969E71B8025830855  01/12/10  ...     22         U\n",
              "41272  EF07480FB64A7E4F76585DCFA17C3CB4  01/12/10  ...     81         U\n",
              "41273  B62FEF1941AA938D00800484A0568CF2  01/12/10  ...     81         U\n",
              "41274  85B0948C7208035C25875D0B1F3F9EAB  01/12/10  ...     57         U\n",
              "41275  68A333379DE781172A21CB9A5938EC71  01/12/10  ...     57         U\n",
              "\n",
              "[41276 rows x 8 columns]"
            ]
          },
          "metadata": {},
          "execution_count": 13
        }
      ]
    },
    {
      "cell_type": "markdown",
      "metadata": {
        "id": "RmywrANGqOuY"
      },
      "source": [
        "preparamos los datos de nuevo, y verificamos que no hayan nulos"
      ]
    },
    {
      "cell_type": "code",
      "metadata": {
        "colab": {
          "base_uri": "https://localhost:8080/"
        },
        "id": "U_7kgh4XqKyW",
        "outputId": "2c41b6a8-2853-47d9-870c-d68a4c982b62"
      },
      "source": [
        "datos.isna().sum()"
      ],
      "execution_count": null,
      "outputs": [
        {
          "output_type": "execute_result",
          "data": {
            "text/plain": [
              "cuenta         0\n",
              "periodo        0\n",
              "totalactiva    0\n",
              "clase          0\n",
              "estrato        0\n",
              "municipio      0\n",
              "ciclo          0\n",
              "ubicacion      0\n",
              "dtype: int64"
            ]
          },
          "metadata": {},
          "execution_count": 37
        }
      ]
    },
    {
      "cell_type": "code",
      "metadata": {
        "colab": {
          "base_uri": "https://localhost:8080/"
        },
        "id": "pLYausVFrZmO",
        "outputId": "9eeb1f5b-b674-4b9f-ab2e-5d967ea28731"
      },
      "source": [
        "datos['clase'].unique()"
      ],
      "execution_count": null,
      "outputs": [
        {
          "output_type": "execute_result",
          "data": {
            "text/plain": [
              "array(['Alumbrado Regulado', 'Bombeo de agua', 'Residencial',\n",
              "       'No Regulado Alumbrado', 'Autoconsumo', 'Comercial'], dtype=object)"
            ]
          },
          "metadata": {},
          "execution_count": 38
        }
      ]
    },
    {
      "cell_type": "markdown",
      "metadata": {
        "id": "al7ETPLVr6n1"
      },
      "source": [
        "reemplazamos los valores de clase por valores numericos"
      ]
    },
    {
      "cell_type": "code",
      "metadata": {
        "colab": {
          "base_uri": "https://localhost:8080/",
          "height": 419
        },
        "id": "TF7BSzm9rXS0",
        "outputId": "71ebc6cd-fe2f-4acb-c9ef-1488c1cf1cd5"
      },
      "source": [
        "valores_reemplazo ={\"clase\":{'Alumbrado Regulado':1, 'Bombeo de agua':2, 'Residencial':3,'No Regulado Alumbrado':4, 'Autoconsumo':5, 'Comercial':6}}\n",
        "datos.replace(valores_reemplazo, inplace=True)\n",
        "datos"
      ],
      "execution_count": null,
      "outputs": [
        {
          "output_type": "execute_result",
          "data": {
            "text/html": [
              "<div>\n",
              "<style scoped>\n",
              "    .dataframe tbody tr th:only-of-type {\n",
              "        vertical-align: middle;\n",
              "    }\n",
              "\n",
              "    .dataframe tbody tr th {\n",
              "        vertical-align: top;\n",
              "    }\n",
              "\n",
              "    .dataframe thead th {\n",
              "        text-align: right;\n",
              "    }\n",
              "</style>\n",
              "<table border=\"1\" class=\"dataframe\">\n",
              "  <thead>\n",
              "    <tr style=\"text-align: right;\">\n",
              "      <th></th>\n",
              "      <th>cuenta</th>\n",
              "      <th>periodo</th>\n",
              "      <th>totalactiva</th>\n",
              "      <th>clase</th>\n",
              "      <th>estrato</th>\n",
              "      <th>municipio</th>\n",
              "      <th>ciclo</th>\n",
              "      <th>ubicacion</th>\n",
              "    </tr>\n",
              "  </thead>\n",
              "  <tbody>\n",
              "    <tr>\n",
              "      <th>0</th>\n",
              "      <td>D816B37FCE924B570E04F67BEDED80CA</td>\n",
              "      <td>2</td>\n",
              "      <td>10850</td>\n",
              "      <td>1</td>\n",
              "      <td>0</td>\n",
              "      <td>ALTAMIRA</td>\n",
              "      <td>38</td>\n",
              "      <td>U</td>\n",
              "    </tr>\n",
              "    <tr>\n",
              "      <th>1</th>\n",
              "      <td>3DCAA9A3BB94316AC6059871B7308108</td>\n",
              "      <td>2</td>\n",
              "      <td>15323</td>\n",
              "      <td>1</td>\n",
              "      <td>0</td>\n",
              "      <td>SUAZA</td>\n",
              "      <td>38</td>\n",
              "      <td>U</td>\n",
              "    </tr>\n",
              "    <tr>\n",
              "      <th>2</th>\n",
              "      <td>83B7CFD6CFFA47E9FA22446DF12E7719</td>\n",
              "      <td>2</td>\n",
              "      <td>10401</td>\n",
              "      <td>1</td>\n",
              "      <td>0</td>\n",
              "      <td>AGRADO</td>\n",
              "      <td>38</td>\n",
              "      <td>U</td>\n",
              "    </tr>\n",
              "    <tr>\n",
              "      <th>3</th>\n",
              "      <td>0CA7B651EF0A1F0A38BBB3466574F5ED</td>\n",
              "      <td>2</td>\n",
              "      <td>134</td>\n",
              "      <td>1</td>\n",
              "      <td>0</td>\n",
              "      <td>GARZON</td>\n",
              "      <td>38</td>\n",
              "      <td>U</td>\n",
              "    </tr>\n",
              "    <tr>\n",
              "      <th>4</th>\n",
              "      <td>DF44A1F150454E6353938530372FA3DD</td>\n",
              "      <td>2</td>\n",
              "      <td>135</td>\n",
              "      <td>1</td>\n",
              "      <td>0</td>\n",
              "      <td>GUADALUPE</td>\n",
              "      <td>38</td>\n",
              "      <td>U</td>\n",
              "    </tr>\n",
              "    <tr>\n",
              "      <th>...</th>\n",
              "      <td>...</td>\n",
              "      <td>...</td>\n",
              "      <td>...</td>\n",
              "      <td>...</td>\n",
              "      <td>...</td>\n",
              "      <td>...</td>\n",
              "      <td>...</td>\n",
              "      <td>...</td>\n",
              "    </tr>\n",
              "    <tr>\n",
              "      <th>10364</th>\n",
              "      <td>ABA6F864CDB01704B88DEBB01475DD89</td>\n",
              "      <td>3</td>\n",
              "      <td>55</td>\n",
              "      <td>6</td>\n",
              "      <td>0</td>\n",
              "      <td>SAN AGUSTIN</td>\n",
              "      <td>54</td>\n",
              "      <td>R</td>\n",
              "    </tr>\n",
              "    <tr>\n",
              "      <th>10365</th>\n",
              "      <td>2A2EE3AAD4D23A277D8EBCD8589633C9</td>\n",
              "      <td>3</td>\n",
              "      <td>797</td>\n",
              "      <td>6</td>\n",
              "      <td>0</td>\n",
              "      <td>TELLO</td>\n",
              "      <td>80</td>\n",
              "      <td>U</td>\n",
              "    </tr>\n",
              "    <tr>\n",
              "      <th>10366</th>\n",
              "      <td>891EAF14845C7B3584CB7ECEEB8E5242</td>\n",
              "      <td>3</td>\n",
              "      <td>1201</td>\n",
              "      <td>6</td>\n",
              "      <td>0</td>\n",
              "      <td>IQUIRA</td>\n",
              "      <td>80</td>\n",
              "      <td>U</td>\n",
              "    </tr>\n",
              "    <tr>\n",
              "      <th>10367</th>\n",
              "      <td>512254DCE822057A7C09AC81EBEA7004</td>\n",
              "      <td>3</td>\n",
              "      <td>1</td>\n",
              "      <td>6</td>\n",
              "      <td>0</td>\n",
              "      <td>TERUEL</td>\n",
              "      <td>21</td>\n",
              "      <td>U</td>\n",
              "    </tr>\n",
              "    <tr>\n",
              "      <th>10368</th>\n",
              "      <td>2A251749C0A55A1E278BB7A660ADECF1</td>\n",
              "      <td>3</td>\n",
              "      <td>7</td>\n",
              "      <td>6</td>\n",
              "      <td>0</td>\n",
              "      <td>YAGUARA</td>\n",
              "      <td>21</td>\n",
              "      <td>U</td>\n",
              "    </tr>\n",
              "  </tbody>\n",
              "</table>\n",
              "<p>10369 rows × 8 columns</p>\n",
              "</div>"
            ],
            "text/plain": [
              "                                 cuenta  periodo  ...  ciclo  ubicacion\n",
              "0      D816B37FCE924B570E04F67BEDED80CA        2  ...     38          U\n",
              "1      3DCAA9A3BB94316AC6059871B7308108        2  ...     38          U\n",
              "2      83B7CFD6CFFA47E9FA22446DF12E7719        2  ...     38          U\n",
              "3      0CA7B651EF0A1F0A38BBB3466574F5ED        2  ...     38          U\n",
              "4      DF44A1F150454E6353938530372FA3DD        2  ...     38          U\n",
              "...                                 ...      ...  ...    ...        ...\n",
              "10364  ABA6F864CDB01704B88DEBB01475DD89        3  ...     54          R\n",
              "10365  2A2EE3AAD4D23A277D8EBCD8589633C9        3  ...     80          U\n",
              "10366  891EAF14845C7B3584CB7ECEEB8E5242        3  ...     80          U\n",
              "10367  512254DCE822057A7C09AC81EBEA7004        3  ...     21          U\n",
              "10368  2A251749C0A55A1E278BB7A660ADECF1        3  ...     21          U\n",
              "\n",
              "[10369 rows x 8 columns]"
            ]
          },
          "metadata": {},
          "execution_count": 39
        }
      ]
    },
    {
      "cell_type": "code",
      "metadata": {
        "colab": {
          "base_uri": "https://localhost:8080/"
        },
        "id": "twgYwzCUtcXU",
        "outputId": "64d31120-1878-486b-88f8-3c0de4401f84"
      },
      "source": [
        "datos['municipio'].unique()"
      ],
      "execution_count": null,
      "outputs": [
        {
          "output_type": "execute_result",
          "data": {
            "text/plain": [
              "array(['ALTAMIRA', 'SUAZA', 'AGRADO', 'GARZON', 'GUADALUPE', 'GIGANTE',\n",
              "       'BARAYA', 'ALGECIRAS', 'EL PITAL', 'IQUIRA', 'PALERMO', 'TELLO',\n",
              "       'VILLAVIEJA', 'YAGUARA', 'TERUEL', 'HOBO', 'RIVERA', 'SANTAMARIA',\n",
              "       'CAMPOALEGRE', 'COLOMBIA', 'SAN VICENTE DEL CAGUAN', 'AIPE',\n",
              "       'TARQUI', 'PALESTINA', 'PITALITO', 'ELIAS', 'ISNOS',\n",
              "       'SALADO BLANCO', 'OPORAPA', 'ACEVEDO', 'LA ARGENTINA', 'PAICOL',\n",
              "       'BELALCAZAR PAEZ', 'NATAGA', 'TESALIA', 'LA PLATA', 'SAN AGUSTIN',\n",
              "       'NEIVA', 'TIMANA'], dtype=object)"
            ]
          },
          "metadata": {},
          "execution_count": 40
        }
      ]
    },
    {
      "cell_type": "code",
      "metadata": {
        "colab": {
          "base_uri": "https://localhost:8080/",
          "height": 419
        },
        "id": "cI5_DP7wtqY1",
        "outputId": "1d31d840-9968-4cff-eda0-448b3a332746"
      },
      "source": [
        "municipios_reemplazo={'municipio':{'ALTAMIRA':1, 'SUAZA':2, 'AGRADO':3, 'GARZON':4, 'GUADALUPE':5, 'GIGANTE':6,\n",
        "       'BARAYA':7, 'ALGECIRAS':8, 'EL PITAL':9, 'IQUIRA':10, 'PALERMO':11, 'TELLO':12,\n",
        "       'VILLAVIEJA':13, 'YAGUARA':14, 'TERUEL':15, 'HOBO':16, 'RIVERA':17, 'SANTAMARIA':18,\n",
        "       'CAMPOALEGRE':19, 'COLOMBIA':20, 'SAN VICENTE DEL CAGUAN':21, 'AIPE':22,\n",
        "       'TARQUI':23, 'PALESTINA':24, 'PITALITO':25, 'ELIAS':26, 'ISNOS':27,\n",
        "       'SALADO BLANCO':28, 'OPORAPA':29, 'ACEVEDO':30, 'LA ARGENTINA':31, 'PAICOL':32,\n",
        "       'BELALCAZAR PAEZ':33, 'NATAGA':34, 'TESALIA':35, 'LA PLATA':36, 'SAN AGUSTIN':37,\n",
        "       'TIMANA':38, 'NEIVA':39}}\n",
        "datos.replace(municipios_reemplazo,inplace=True)\n",
        "datos"
      ],
      "execution_count": null,
      "outputs": [
        {
          "output_type": "execute_result",
          "data": {
            "text/html": [
              "<div>\n",
              "<style scoped>\n",
              "    .dataframe tbody tr th:only-of-type {\n",
              "        vertical-align: middle;\n",
              "    }\n",
              "\n",
              "    .dataframe tbody tr th {\n",
              "        vertical-align: top;\n",
              "    }\n",
              "\n",
              "    .dataframe thead th {\n",
              "        text-align: right;\n",
              "    }\n",
              "</style>\n",
              "<table border=\"1\" class=\"dataframe\">\n",
              "  <thead>\n",
              "    <tr style=\"text-align: right;\">\n",
              "      <th></th>\n",
              "      <th>cuenta</th>\n",
              "      <th>periodo</th>\n",
              "      <th>totalactiva</th>\n",
              "      <th>clase</th>\n",
              "      <th>estrato</th>\n",
              "      <th>municipio</th>\n",
              "      <th>ciclo</th>\n",
              "      <th>ubicacion</th>\n",
              "    </tr>\n",
              "  </thead>\n",
              "  <tbody>\n",
              "    <tr>\n",
              "      <th>0</th>\n",
              "      <td>D816B37FCE924B570E04F67BEDED80CA</td>\n",
              "      <td>2</td>\n",
              "      <td>10850</td>\n",
              "      <td>1</td>\n",
              "      <td>0</td>\n",
              "      <td>1</td>\n",
              "      <td>38</td>\n",
              "      <td>U</td>\n",
              "    </tr>\n",
              "    <tr>\n",
              "      <th>1</th>\n",
              "      <td>3DCAA9A3BB94316AC6059871B7308108</td>\n",
              "      <td>2</td>\n",
              "      <td>15323</td>\n",
              "      <td>1</td>\n",
              "      <td>0</td>\n",
              "      <td>2</td>\n",
              "      <td>38</td>\n",
              "      <td>U</td>\n",
              "    </tr>\n",
              "    <tr>\n",
              "      <th>2</th>\n",
              "      <td>83B7CFD6CFFA47E9FA22446DF12E7719</td>\n",
              "      <td>2</td>\n",
              "      <td>10401</td>\n",
              "      <td>1</td>\n",
              "      <td>0</td>\n",
              "      <td>3</td>\n",
              "      <td>38</td>\n",
              "      <td>U</td>\n",
              "    </tr>\n",
              "    <tr>\n",
              "      <th>3</th>\n",
              "      <td>0CA7B651EF0A1F0A38BBB3466574F5ED</td>\n",
              "      <td>2</td>\n",
              "      <td>134</td>\n",
              "      <td>1</td>\n",
              "      <td>0</td>\n",
              "      <td>4</td>\n",
              "      <td>38</td>\n",
              "      <td>U</td>\n",
              "    </tr>\n",
              "    <tr>\n",
              "      <th>4</th>\n",
              "      <td>DF44A1F150454E6353938530372FA3DD</td>\n",
              "      <td>2</td>\n",
              "      <td>135</td>\n",
              "      <td>1</td>\n",
              "      <td>0</td>\n",
              "      <td>5</td>\n",
              "      <td>38</td>\n",
              "      <td>U</td>\n",
              "    </tr>\n",
              "    <tr>\n",
              "      <th>...</th>\n",
              "      <td>...</td>\n",
              "      <td>...</td>\n",
              "      <td>...</td>\n",
              "      <td>...</td>\n",
              "      <td>...</td>\n",
              "      <td>...</td>\n",
              "      <td>...</td>\n",
              "      <td>...</td>\n",
              "    </tr>\n",
              "    <tr>\n",
              "      <th>10364</th>\n",
              "      <td>ABA6F864CDB01704B88DEBB01475DD89</td>\n",
              "      <td>3</td>\n",
              "      <td>55</td>\n",
              "      <td>6</td>\n",
              "      <td>0</td>\n",
              "      <td>37</td>\n",
              "      <td>54</td>\n",
              "      <td>R</td>\n",
              "    </tr>\n",
              "    <tr>\n",
              "      <th>10365</th>\n",
              "      <td>2A2EE3AAD4D23A277D8EBCD8589633C9</td>\n",
              "      <td>3</td>\n",
              "      <td>797</td>\n",
              "      <td>6</td>\n",
              "      <td>0</td>\n",
              "      <td>12</td>\n",
              "      <td>80</td>\n",
              "      <td>U</td>\n",
              "    </tr>\n",
              "    <tr>\n",
              "      <th>10366</th>\n",
              "      <td>891EAF14845C7B3584CB7ECEEB8E5242</td>\n",
              "      <td>3</td>\n",
              "      <td>1201</td>\n",
              "      <td>6</td>\n",
              "      <td>0</td>\n",
              "      <td>10</td>\n",
              "      <td>80</td>\n",
              "      <td>U</td>\n",
              "    </tr>\n",
              "    <tr>\n",
              "      <th>10367</th>\n",
              "      <td>512254DCE822057A7C09AC81EBEA7004</td>\n",
              "      <td>3</td>\n",
              "      <td>1</td>\n",
              "      <td>6</td>\n",
              "      <td>0</td>\n",
              "      <td>15</td>\n",
              "      <td>21</td>\n",
              "      <td>U</td>\n",
              "    </tr>\n",
              "    <tr>\n",
              "      <th>10368</th>\n",
              "      <td>2A251749C0A55A1E278BB7A660ADECF1</td>\n",
              "      <td>3</td>\n",
              "      <td>7</td>\n",
              "      <td>6</td>\n",
              "      <td>0</td>\n",
              "      <td>14</td>\n",
              "      <td>21</td>\n",
              "      <td>U</td>\n",
              "    </tr>\n",
              "  </tbody>\n",
              "</table>\n",
              "<p>10369 rows × 8 columns</p>\n",
              "</div>"
            ],
            "text/plain": [
              "                                 cuenta  periodo  ...  ciclo  ubicacion\n",
              "0      D816B37FCE924B570E04F67BEDED80CA        2  ...     38          U\n",
              "1      3DCAA9A3BB94316AC6059871B7308108        2  ...     38          U\n",
              "2      83B7CFD6CFFA47E9FA22446DF12E7719        2  ...     38          U\n",
              "3      0CA7B651EF0A1F0A38BBB3466574F5ED        2  ...     38          U\n",
              "4      DF44A1F150454E6353938530372FA3DD        2  ...     38          U\n",
              "...                                 ...      ...  ...    ...        ...\n",
              "10364  ABA6F864CDB01704B88DEBB01475DD89        3  ...     54          R\n",
              "10365  2A2EE3AAD4D23A277D8EBCD8589633C9        3  ...     80          U\n",
              "10366  891EAF14845C7B3584CB7ECEEB8E5242        3  ...     80          U\n",
              "10367  512254DCE822057A7C09AC81EBEA7004        3  ...     21          U\n",
              "10368  2A251749C0A55A1E278BB7A660ADECF1        3  ...     21          U\n",
              "\n",
              "[10369 rows x 8 columns]"
            ]
          },
          "metadata": {},
          "execution_count": 41
        }
      ]
    },
    {
      "cell_type": "code",
      "metadata": {
        "colab": {
          "base_uri": "https://localhost:8080/"
        },
        "id": "7IKhLWCxvL2H",
        "outputId": "dc46e5c6-744b-4110-8163-fccaa0db29c5"
      },
      "source": [
        "datos['ubicacion'].unique()"
      ],
      "execution_count": null,
      "outputs": [
        {
          "output_type": "execute_result",
          "data": {
            "text/plain": [
              "array(['U', 'R'], dtype=object)"
            ]
          },
          "metadata": {},
          "execution_count": 42
        }
      ]
    },
    {
      "cell_type": "code",
      "metadata": {
        "colab": {
          "base_uri": "https://localhost:8080/",
          "height": 419
        },
        "id": "e4Yx5Xo7ve-7",
        "outputId": "ad3f5ab4-1b4f-47f8-8413-5cd9125a4609"
      },
      "source": [
        "ubicacion_reemplazo={'ubicacion':{'U':1,'R':2}}\n",
        "datos.replace(ubicacion_reemplazo, inplace=True)\n",
        "datos"
      ],
      "execution_count": null,
      "outputs": [
        {
          "output_type": "execute_result",
          "data": {
            "text/html": [
              "<div>\n",
              "<style scoped>\n",
              "    .dataframe tbody tr th:only-of-type {\n",
              "        vertical-align: middle;\n",
              "    }\n",
              "\n",
              "    .dataframe tbody tr th {\n",
              "        vertical-align: top;\n",
              "    }\n",
              "\n",
              "    .dataframe thead th {\n",
              "        text-align: right;\n",
              "    }\n",
              "</style>\n",
              "<table border=\"1\" class=\"dataframe\">\n",
              "  <thead>\n",
              "    <tr style=\"text-align: right;\">\n",
              "      <th></th>\n",
              "      <th>cuenta</th>\n",
              "      <th>periodo</th>\n",
              "      <th>totalactiva</th>\n",
              "      <th>clase</th>\n",
              "      <th>estrato</th>\n",
              "      <th>municipio</th>\n",
              "      <th>ciclo</th>\n",
              "      <th>ubicacion</th>\n",
              "    </tr>\n",
              "  </thead>\n",
              "  <tbody>\n",
              "    <tr>\n",
              "      <th>0</th>\n",
              "      <td>D816B37FCE924B570E04F67BEDED80CA</td>\n",
              "      <td>2</td>\n",
              "      <td>10850</td>\n",
              "      <td>1</td>\n",
              "      <td>0</td>\n",
              "      <td>1</td>\n",
              "      <td>38</td>\n",
              "      <td>1</td>\n",
              "    </tr>\n",
              "    <tr>\n",
              "      <th>1</th>\n",
              "      <td>3DCAA9A3BB94316AC6059871B7308108</td>\n",
              "      <td>2</td>\n",
              "      <td>15323</td>\n",
              "      <td>1</td>\n",
              "      <td>0</td>\n",
              "      <td>2</td>\n",
              "      <td>38</td>\n",
              "      <td>1</td>\n",
              "    </tr>\n",
              "    <tr>\n",
              "      <th>2</th>\n",
              "      <td>83B7CFD6CFFA47E9FA22446DF12E7719</td>\n",
              "      <td>2</td>\n",
              "      <td>10401</td>\n",
              "      <td>1</td>\n",
              "      <td>0</td>\n",
              "      <td>3</td>\n",
              "      <td>38</td>\n",
              "      <td>1</td>\n",
              "    </tr>\n",
              "    <tr>\n",
              "      <th>3</th>\n",
              "      <td>0CA7B651EF0A1F0A38BBB3466574F5ED</td>\n",
              "      <td>2</td>\n",
              "      <td>134</td>\n",
              "      <td>1</td>\n",
              "      <td>0</td>\n",
              "      <td>4</td>\n",
              "      <td>38</td>\n",
              "      <td>1</td>\n",
              "    </tr>\n",
              "    <tr>\n",
              "      <th>4</th>\n",
              "      <td>DF44A1F150454E6353938530372FA3DD</td>\n",
              "      <td>2</td>\n",
              "      <td>135</td>\n",
              "      <td>1</td>\n",
              "      <td>0</td>\n",
              "      <td>5</td>\n",
              "      <td>38</td>\n",
              "      <td>1</td>\n",
              "    </tr>\n",
              "    <tr>\n",
              "      <th>...</th>\n",
              "      <td>...</td>\n",
              "      <td>...</td>\n",
              "      <td>...</td>\n",
              "      <td>...</td>\n",
              "      <td>...</td>\n",
              "      <td>...</td>\n",
              "      <td>...</td>\n",
              "      <td>...</td>\n",
              "    </tr>\n",
              "    <tr>\n",
              "      <th>10364</th>\n",
              "      <td>ABA6F864CDB01704B88DEBB01475DD89</td>\n",
              "      <td>3</td>\n",
              "      <td>55</td>\n",
              "      <td>6</td>\n",
              "      <td>0</td>\n",
              "      <td>37</td>\n",
              "      <td>54</td>\n",
              "      <td>2</td>\n",
              "    </tr>\n",
              "    <tr>\n",
              "      <th>10365</th>\n",
              "      <td>2A2EE3AAD4D23A277D8EBCD8589633C9</td>\n",
              "      <td>3</td>\n",
              "      <td>797</td>\n",
              "      <td>6</td>\n",
              "      <td>0</td>\n",
              "      <td>12</td>\n",
              "      <td>80</td>\n",
              "      <td>1</td>\n",
              "    </tr>\n",
              "    <tr>\n",
              "      <th>10366</th>\n",
              "      <td>891EAF14845C7B3584CB7ECEEB8E5242</td>\n",
              "      <td>3</td>\n",
              "      <td>1201</td>\n",
              "      <td>6</td>\n",
              "      <td>0</td>\n",
              "      <td>10</td>\n",
              "      <td>80</td>\n",
              "      <td>1</td>\n",
              "    </tr>\n",
              "    <tr>\n",
              "      <th>10367</th>\n",
              "      <td>512254DCE822057A7C09AC81EBEA7004</td>\n",
              "      <td>3</td>\n",
              "      <td>1</td>\n",
              "      <td>6</td>\n",
              "      <td>0</td>\n",
              "      <td>15</td>\n",
              "      <td>21</td>\n",
              "      <td>1</td>\n",
              "    </tr>\n",
              "    <tr>\n",
              "      <th>10368</th>\n",
              "      <td>2A251749C0A55A1E278BB7A660ADECF1</td>\n",
              "      <td>3</td>\n",
              "      <td>7</td>\n",
              "      <td>6</td>\n",
              "      <td>0</td>\n",
              "      <td>14</td>\n",
              "      <td>21</td>\n",
              "      <td>1</td>\n",
              "    </tr>\n",
              "  </tbody>\n",
              "</table>\n",
              "<p>10369 rows × 8 columns</p>\n",
              "</div>"
            ],
            "text/plain": [
              "                                 cuenta  periodo  ...  ciclo  ubicacion\n",
              "0      D816B37FCE924B570E04F67BEDED80CA        2  ...     38          1\n",
              "1      3DCAA9A3BB94316AC6059871B7308108        2  ...     38          1\n",
              "2      83B7CFD6CFFA47E9FA22446DF12E7719        2  ...     38          1\n",
              "3      0CA7B651EF0A1F0A38BBB3466574F5ED        2  ...     38          1\n",
              "4      DF44A1F150454E6353938530372FA3DD        2  ...     38          1\n",
              "...                                 ...      ...  ...    ...        ...\n",
              "10364  ABA6F864CDB01704B88DEBB01475DD89        3  ...     54          2\n",
              "10365  2A2EE3AAD4D23A277D8EBCD8589633C9        3  ...     80          1\n",
              "10366  891EAF14845C7B3584CB7ECEEB8E5242        3  ...     80          1\n",
              "10367  512254DCE822057A7C09AC81EBEA7004        3  ...     21          1\n",
              "10368  2A251749C0A55A1E278BB7A660ADECF1        3  ...     21          1\n",
              "\n",
              "[10369 rows x 8 columns]"
            ]
          },
          "metadata": {},
          "execution_count": 43
        }
      ]
    },
    {
      "cell_type": "code",
      "metadata": {
        "colab": {
          "base_uri": "https://localhost:8080/"
        },
        "id": "bfFa2vWIwKTA",
        "outputId": "4762cec3-dc99-451b-fb30-e660b14ee27a"
      },
      "source": [
        "datos['cuenta'].value_counts()"
      ],
      "execution_count": null,
      "outputs": [
        {
          "output_type": "execute_result",
          "data": {
            "text/plain": [
              "F51CD29A5490DD05B7F92A401BE0797D    33\n",
              "3C7D17E848029FCFD9B725BD6741FAB3    33\n",
              "40D40B71B1CDDF9518CDCA5E2480936E    33\n",
              "9C800B1A2A8E295FA1727AC970E34153    33\n",
              "056D642D894A6670F89F64CF7F67DE29    33\n",
              "                                    ..\n",
              "F5793743E3671DCF56F8346C1A330A8F     1\n",
              "F88A978DC1730DD3ACD10F94862ED61D     1\n",
              "311ADEDEEAFF8D1BD9846C7DAD8FF94D     1\n",
              "BE0DA811993FCCDDDC270494285CDA02     1\n",
              "5F012451C1C06E11BEA9288B32A343AD     1\n",
              "Name: cuenta, Length: 1834, dtype: int64"
            ]
          },
          "metadata": {},
          "execution_count": 44
        }
      ]
    },
    {
      "cell_type": "code",
      "metadata": {
        "colab": {
          "base_uri": "https://localhost:8080/"
        },
        "id": "hpQdt7jUxj9i",
        "outputId": "118007f3-76a9-4347-c1b3-070c55ee4be5"
      },
      "source": [
        "datos['periodo'].value_counts()"
      ],
      "execution_count": null,
      "outputs": [
        {
          "output_type": "execute_result",
          "data": {
            "text/plain": [
              "3    3577\n",
              "2    3566\n",
              "1    3226\n",
              "Name: periodo, dtype: int64"
            ]
          },
          "metadata": {},
          "execution_count": 45
        }
      ]
    },
    {
      "cell_type": "code",
      "metadata": {
        "id": "nHfTAVjqyLdQ"
      },
      "source": [
        "datos= datos.drop(columns=['cuenta'])\n"
      ],
      "execution_count": null,
      "outputs": []
    },
    {
      "cell_type": "code",
      "metadata": {
        "colab": {
          "base_uri": "https://localhost:8080/",
          "height": 419
        },
        "id": "E29v_Z-NyVfl",
        "outputId": "7eb83110-ec62-4dfb-ab1d-16b56cbb7d25"
      },
      "source": [
        "datos"
      ],
      "execution_count": null,
      "outputs": [
        {
          "output_type": "execute_result",
          "data": {
            "text/html": [
              "<div>\n",
              "<style scoped>\n",
              "    .dataframe tbody tr th:only-of-type {\n",
              "        vertical-align: middle;\n",
              "    }\n",
              "\n",
              "    .dataframe tbody tr th {\n",
              "        vertical-align: top;\n",
              "    }\n",
              "\n",
              "    .dataframe thead th {\n",
              "        text-align: right;\n",
              "    }\n",
              "</style>\n",
              "<table border=\"1\" class=\"dataframe\">\n",
              "  <thead>\n",
              "    <tr style=\"text-align: right;\">\n",
              "      <th></th>\n",
              "      <th>periodo</th>\n",
              "      <th>totalactiva</th>\n",
              "      <th>clase</th>\n",
              "      <th>estrato</th>\n",
              "      <th>municipio</th>\n",
              "      <th>ciclo</th>\n",
              "      <th>ubicacion</th>\n",
              "    </tr>\n",
              "  </thead>\n",
              "  <tbody>\n",
              "    <tr>\n",
              "      <th>0</th>\n",
              "      <td>2</td>\n",
              "      <td>10850</td>\n",
              "      <td>1</td>\n",
              "      <td>0</td>\n",
              "      <td>1</td>\n",
              "      <td>38</td>\n",
              "      <td>1</td>\n",
              "    </tr>\n",
              "    <tr>\n",
              "      <th>1</th>\n",
              "      <td>2</td>\n",
              "      <td>15323</td>\n",
              "      <td>1</td>\n",
              "      <td>0</td>\n",
              "      <td>2</td>\n",
              "      <td>38</td>\n",
              "      <td>1</td>\n",
              "    </tr>\n",
              "    <tr>\n",
              "      <th>2</th>\n",
              "      <td>2</td>\n",
              "      <td>10401</td>\n",
              "      <td>1</td>\n",
              "      <td>0</td>\n",
              "      <td>3</td>\n",
              "      <td>38</td>\n",
              "      <td>1</td>\n",
              "    </tr>\n",
              "    <tr>\n",
              "      <th>3</th>\n",
              "      <td>2</td>\n",
              "      <td>134</td>\n",
              "      <td>1</td>\n",
              "      <td>0</td>\n",
              "      <td>4</td>\n",
              "      <td>38</td>\n",
              "      <td>1</td>\n",
              "    </tr>\n",
              "    <tr>\n",
              "      <th>4</th>\n",
              "      <td>2</td>\n",
              "      <td>135</td>\n",
              "      <td>1</td>\n",
              "      <td>0</td>\n",
              "      <td>5</td>\n",
              "      <td>38</td>\n",
              "      <td>1</td>\n",
              "    </tr>\n",
              "    <tr>\n",
              "      <th>...</th>\n",
              "      <td>...</td>\n",
              "      <td>...</td>\n",
              "      <td>...</td>\n",
              "      <td>...</td>\n",
              "      <td>...</td>\n",
              "      <td>...</td>\n",
              "      <td>...</td>\n",
              "    </tr>\n",
              "    <tr>\n",
              "      <th>10364</th>\n",
              "      <td>3</td>\n",
              "      <td>55</td>\n",
              "      <td>6</td>\n",
              "      <td>0</td>\n",
              "      <td>37</td>\n",
              "      <td>54</td>\n",
              "      <td>2</td>\n",
              "    </tr>\n",
              "    <tr>\n",
              "      <th>10365</th>\n",
              "      <td>3</td>\n",
              "      <td>797</td>\n",
              "      <td>6</td>\n",
              "      <td>0</td>\n",
              "      <td>12</td>\n",
              "      <td>80</td>\n",
              "      <td>1</td>\n",
              "    </tr>\n",
              "    <tr>\n",
              "      <th>10366</th>\n",
              "      <td>3</td>\n",
              "      <td>1201</td>\n",
              "      <td>6</td>\n",
              "      <td>0</td>\n",
              "      <td>10</td>\n",
              "      <td>80</td>\n",
              "      <td>1</td>\n",
              "    </tr>\n",
              "    <tr>\n",
              "      <th>10367</th>\n",
              "      <td>3</td>\n",
              "      <td>1</td>\n",
              "      <td>6</td>\n",
              "      <td>0</td>\n",
              "      <td>15</td>\n",
              "      <td>21</td>\n",
              "      <td>1</td>\n",
              "    </tr>\n",
              "    <tr>\n",
              "      <th>10368</th>\n",
              "      <td>3</td>\n",
              "      <td>7</td>\n",
              "      <td>6</td>\n",
              "      <td>0</td>\n",
              "      <td>14</td>\n",
              "      <td>21</td>\n",
              "      <td>1</td>\n",
              "    </tr>\n",
              "  </tbody>\n",
              "</table>\n",
              "<p>10369 rows × 7 columns</p>\n",
              "</div>"
            ],
            "text/plain": [
              "       periodo  totalactiva  clase  estrato  municipio  ciclo  ubicacion\n",
              "0            2        10850      1        0          1     38          1\n",
              "1            2        15323      1        0          2     38          1\n",
              "2            2        10401      1        0          3     38          1\n",
              "3            2          134      1        0          4     38          1\n",
              "4            2          135      1        0          5     38          1\n",
              "...        ...          ...    ...      ...        ...    ...        ...\n",
              "10364        3           55      6        0         37     54          2\n",
              "10365        3          797      6        0         12     80          1\n",
              "10366        3         1201      6        0         10     80          1\n",
              "10367        3            1      6        0         15     21          1\n",
              "10368        3            7      6        0         14     21          1\n",
              "\n",
              "[10369 rows x 7 columns]"
            ]
          },
          "metadata": {},
          "execution_count": 47
        }
      ]
    },
    {
      "cell_type": "markdown",
      "metadata": {
        "id": "0N83hvXS1Jxz"
      },
      "source": [
        "vamos a contar cuantas coincidencias hay entre los municipios"
      ]
    },
    {
      "cell_type": "code",
      "metadata": {
        "colab": {
          "base_uri": "https://localhost:8080/"
        },
        "id": "yQwBa8GY1R6M",
        "outputId": "83f583eb-3e38-4dba-d542-58f205191e97"
      },
      "source": [
        "datos['municipio'].value_counts()"
      ],
      "execution_count": null,
      "outputs": [
        {
          "output_type": "execute_result",
          "data": {
            "text/plain": [
              "39    1017\n",
              "11     729\n",
              "25     615\n",
              "17     611\n",
              "4      498\n",
              "18     446\n",
              "23     386\n",
              "14     377\n",
              "6      356\n",
              "19     355\n",
              "36     347\n",
              "22     291\n",
              "8      282\n",
              "13     275\n",
              "10     237\n",
              "5      236\n",
              "3      224\n",
              "12     221\n",
              "15     206\n",
              "37     196\n",
              "1      187\n",
              "30     185\n",
              "38     181\n",
              "16     178\n",
              "7      166\n",
              "9      160\n",
              "35     153\n",
              "24     141\n",
              "26     135\n",
              "32     132\n",
              "27     125\n",
              "20     120\n",
              "34     115\n",
              "31     113\n",
              "2      109\n",
              "29     102\n",
              "28     100\n",
              "33      32\n",
              "21      30\n",
              "Name: municipio, dtype: int64"
            ]
          },
          "metadata": {},
          "execution_count": 48
        }
      ]
    },
    {
      "cell_type": "markdown",
      "metadata": {
        "id": "srMzd8sn1hwu"
      },
      "source": [
        "graficamos municipio vs totalactiva"
      ]
    },
    {
      "cell_type": "code",
      "metadata": {
        "colab": {
          "base_uri": "https://localhost:8080/",
          "height": 295
        },
        "id": "igMmOaCT1hAj",
        "outputId": "7d9c8adf-2d38-4322-f0ea-f63c7b554dc1"
      },
      "source": [
        "import matplotlib.pyplot as plt\n",
        "plt.scatter(x=datos['municipio'], y=datos['totalactiva'])\n",
        "plt.title('Municipio vs totalactiva')\n",
        "plt.xlabel('municipio')\n",
        "plt.ylabel('totalactiva')\n",
        "plt.show()"
      ],
      "execution_count": null,
      "outputs": [
        {
          "output_type": "display_data",
          "data": {
            "image/png": "[encoded data removed]",
            "text/plain": [
              "<Figure size 432x288 with 1 Axes>"
            ]
          },
          "metadata": {
            "needs_background": "light"
          }
        }
      ]
    },
    {
      "cell_type": "code",
      "metadata": {
        "colab": {
          "base_uri": "https://localhost:8080/",
          "height": 295
        },
        "id": "PQgd6Pae33Nm",
        "outputId": "83394070-efce-4903-d141-a6ed547553fa"
      },
      "source": [
        "import matplotlib.pyplot as plt\n",
        "plt.scatter(x=datos['estrato'], y=datos['totalactiva'])\n",
        "plt.title('estrato vs totalactiva')\n",
        "plt.xlabel('estrato')\n",
        "plt.ylabel('totalactiva')\n",
        "plt.show()"
      ],
      "execution_count": null,
      "outputs": [
        {
          "output_type": "display_data",
          "data": {
            "image/png": "[encoded data removed]",
            "text/plain": [
              "<Figure size 432x288 with 1 Axes>"
            ]
          },
          "metadata": {
            "needs_background": "light"
          }
        }
      ]
    },
    {
      "cell_type": "markdown",
      "metadata": {
        "id": "Hg_5O6ag5DgG"
      },
      "source": [
        "fase de entrenamiento"
      ]
    },
    {
      "cell_type": "code",
      "metadata": {
        "colab": {
          "base_uri": "https://localhost:8080/",
          "height": 419
        },
        "id": "xYDSh7bL5Hjy",
        "outputId": "7836bc9a-0a74-4e51-a8cc-55c23902d95b"
      },
      "source": [
        "datos_entrenamiento=datos.sample(frac=0.9, random_state=0)\n",
        "datos_test=datos.drop(datos_entrenamiento.index)\n",
        "datos_test"
      ],
      "execution_count": null,
      "outputs": [
        {
          "output_type": "execute_result",
          "data": {
            "text/html": [
              "<div>\n",
              "<style scoped>\n",
              "    .dataframe tbody tr th:only-of-type {\n",
              "        vertical-align: middle;\n",
              "    }\n",
              "\n",
              "    .dataframe tbody tr th {\n",
              "        vertical-align: top;\n",
              "    }\n",
              "\n",
              "    .dataframe thead th {\n",
              "        text-align: right;\n",
              "    }\n",
              "</style>\n",
              "<table border=\"1\" class=\"dataframe\">\n",
              "  <thead>\n",
              "    <tr style=\"text-align: right;\">\n",
              "      <th></th>\n",
              "      <th>periodo</th>\n",
              "      <th>totalactiva</th>\n",
              "      <th>clase</th>\n",
              "      <th>estrato</th>\n",
              "      <th>municipio</th>\n",
              "      <th>ciclo</th>\n",
              "      <th>ubicacion</th>\n",
              "    </tr>\n",
              "  </thead>\n",
              "  <tbody>\n",
              "    <tr>\n",
              "      <th>0</th>\n",
              "      <td>2</td>\n",
              "      <td>10850</td>\n",
              "      <td>1</td>\n",
              "      <td>0</td>\n",
              "      <td>1</td>\n",
              "      <td>38</td>\n",
              "      <td>1</td>\n",
              "    </tr>\n",
              "    <tr>\n",
              "      <th>21</th>\n",
              "      <td>1</td>\n",
              "      <td>101</td>\n",
              "      <td>1</td>\n",
              "      <td>0</td>\n",
              "      <td>3</td>\n",
              "      <td>38</td>\n",
              "      <td>1</td>\n",
              "    </tr>\n",
              "    <tr>\n",
              "      <th>25</th>\n",
              "      <td>2</td>\n",
              "      <td>12</td>\n",
              "      <td>1</td>\n",
              "      <td>0</td>\n",
              "      <td>10</td>\n",
              "      <td>15</td>\n",
              "      <td>1</td>\n",
              "    </tr>\n",
              "    <tr>\n",
              "      <th>28</th>\n",
              "      <td>2</td>\n",
              "      <td>161</td>\n",
              "      <td>1</td>\n",
              "      <td>0</td>\n",
              "      <td>12</td>\n",
              "      <td>15</td>\n",
              "      <td>1</td>\n",
              "    </tr>\n",
              "    <tr>\n",
              "      <th>62</th>\n",
              "      <td>2</td>\n",
              "      <td>63</td>\n",
              "      <td>1</td>\n",
              "      <td>0</td>\n",
              "      <td>22</td>\n",
              "      <td>15</td>\n",
              "      <td>1</td>\n",
              "    </tr>\n",
              "    <tr>\n",
              "      <th>...</th>\n",
              "      <td>...</td>\n",
              "      <td>...</td>\n",
              "      <td>...</td>\n",
              "      <td>...</td>\n",
              "      <td>...</td>\n",
              "      <td>...</td>\n",
              "      <td>...</td>\n",
              "    </tr>\n",
              "    <tr>\n",
              "      <th>10305</th>\n",
              "      <td>3</td>\n",
              "      <td>30</td>\n",
              "      <td>6</td>\n",
              "      <td>0</td>\n",
              "      <td>39</td>\n",
              "      <td>5</td>\n",
              "      <td>1</td>\n",
              "    </tr>\n",
              "    <tr>\n",
              "      <th>10320</th>\n",
              "      <td>3</td>\n",
              "      <td>2</td>\n",
              "      <td>6</td>\n",
              "      <td>0</td>\n",
              "      <td>36</td>\n",
              "      <td>72</td>\n",
              "      <td>1</td>\n",
              "    </tr>\n",
              "    <tr>\n",
              "      <th>10327</th>\n",
              "      <td>3</td>\n",
              "      <td>17</td>\n",
              "      <td>6</td>\n",
              "      <td>0</td>\n",
              "      <td>39</td>\n",
              "      <td>5</td>\n",
              "      <td>1</td>\n",
              "    </tr>\n",
              "    <tr>\n",
              "      <th>10336</th>\n",
              "      <td>3</td>\n",
              "      <td>49</td>\n",
              "      <td>6</td>\n",
              "      <td>0</td>\n",
              "      <td>39</td>\n",
              "      <td>5</td>\n",
              "      <td>1</td>\n",
              "    </tr>\n",
              "    <tr>\n",
              "      <th>10340</th>\n",
              "      <td>3</td>\n",
              "      <td>3</td>\n",
              "      <td>6</td>\n",
              "      <td>0</td>\n",
              "      <td>39</td>\n",
              "      <td>5</td>\n",
              "      <td>1</td>\n",
              "    </tr>\n",
              "  </tbody>\n",
              "</table>\n",
              "<p>1037 rows × 7 columns</p>\n",
              "</div>"
            ],
            "text/plain": [
              "       periodo  totalactiva  clase  estrato  municipio  ciclo  ubicacion\n",
              "0            2        10850      1        0          1     38          1\n",
              "21           1          101      1        0          3     38          1\n",
              "25           2           12      1        0         10     15          1\n",
              "28           2          161      1        0         12     15          1\n",
              "62           2           63      1        0         22     15          1\n",
              "...        ...          ...    ...      ...        ...    ...        ...\n",
              "10305        3           30      6        0         39      5          1\n",
              "10320        3            2      6        0         36     72          1\n",
              "10327        3           17      6        0         39      5          1\n",
              "10336        3           49      6        0         39      5          1\n",
              "10340        3            3      6        0         39      5          1\n",
              "\n",
              "[1037 rows x 7 columns]"
            ]
          },
          "metadata": {},
          "execution_count": 53
        }
      ]
    },
    {
      "cell_type": "code",
      "metadata": {
        "colab": {
          "base_uri": "https://localhost:8080/",
          "height": 419
        },
        "id": "CiKq2cBO6hX_",
        "outputId": "d7f67ab6-36cc-490f-c688-093acd53a4e8"
      },
      "source": [
        "datos_entrenamiento"
      ],
      "execution_count": null,
      "outputs": [
        {
          "output_type": "execute_result",
          "data": {
            "text/html": [
              "<div>\n",
              "<style scoped>\n",
              "    .dataframe tbody tr th:only-of-type {\n",
              "        vertical-align: middle;\n",
              "    }\n",
              "\n",
              "    .dataframe tbody tr th {\n",
              "        vertical-align: top;\n",
              "    }\n",
              "\n",
              "    .dataframe thead th {\n",
              "        text-align: right;\n",
              "    }\n",
              "</style>\n",
              "<table border=\"1\" class=\"dataframe\">\n",
              "  <thead>\n",
              "    <tr style=\"text-align: right;\">\n",
              "      <th></th>\n",
              "      <th>periodo</th>\n",
              "      <th>totalactiva</th>\n",
              "      <th>clase</th>\n",
              "      <th>estrato</th>\n",
              "      <th>municipio</th>\n",
              "      <th>ciclo</th>\n",
              "      <th>ubicacion</th>\n",
              "    </tr>\n",
              "  </thead>\n",
              "  <tbody>\n",
              "    <tr>\n",
              "      <th>8489</th>\n",
              "      <td>2</td>\n",
              "      <td>186</td>\n",
              "      <td>6</td>\n",
              "      <td>0</td>\n",
              "      <td>36</td>\n",
              "      <td>76</td>\n",
              "      <td>1</td>\n",
              "    </tr>\n",
              "    <tr>\n",
              "      <th>8375</th>\n",
              "      <td>2</td>\n",
              "      <td>43</td>\n",
              "      <td>6</td>\n",
              "      <td>0</td>\n",
              "      <td>28</td>\n",
              "      <td>55</td>\n",
              "      <td>1</td>\n",
              "    </tr>\n",
              "    <tr>\n",
              "      <th>8546</th>\n",
              "      <td>2</td>\n",
              "      <td>144</td>\n",
              "      <td>6</td>\n",
              "      <td>0</td>\n",
              "      <td>34</td>\n",
              "      <td>71</td>\n",
              "      <td>1</td>\n",
              "    </tr>\n",
              "    <tr>\n",
              "      <th>5771</th>\n",
              "      <td>2</td>\n",
              "      <td>6227</td>\n",
              "      <td>5</td>\n",
              "      <td>0</td>\n",
              "      <td>12</td>\n",
              "      <td>2</td>\n",
              "      <td>1</td>\n",
              "    </tr>\n",
              "    <tr>\n",
              "      <th>3820</th>\n",
              "      <td>2</td>\n",
              "      <td>206</td>\n",
              "      <td>4</td>\n",
              "      <td>0</td>\n",
              "      <td>17</td>\n",
              "      <td>15</td>\n",
              "      <td>1</td>\n",
              "    </tr>\n",
              "    <tr>\n",
              "      <th>...</th>\n",
              "      <td>...</td>\n",
              "      <td>...</td>\n",
              "      <td>...</td>\n",
              "      <td>...</td>\n",
              "      <td>...</td>\n",
              "      <td>...</td>\n",
              "      <td>...</td>\n",
              "    </tr>\n",
              "    <tr>\n",
              "      <th>5156</th>\n",
              "      <td>3</td>\n",
              "      <td>438</td>\n",
              "      <td>4</td>\n",
              "      <td>0</td>\n",
              "      <td>32</td>\n",
              "      <td>75</td>\n",
              "      <td>1</td>\n",
              "    </tr>\n",
              "    <tr>\n",
              "      <th>9936</th>\n",
              "      <td>3</td>\n",
              "      <td>29</td>\n",
              "      <td>6</td>\n",
              "      <td>0</td>\n",
              "      <td>25</td>\n",
              "      <td>61</td>\n",
              "      <td>1</td>\n",
              "    </tr>\n",
              "    <tr>\n",
              "      <th>8177</th>\n",
              "      <td>2</td>\n",
              "      <td>10</td>\n",
              "      <td>6</td>\n",
              "      <td>0</td>\n",
              "      <td>18</td>\n",
              "      <td>21</td>\n",
              "      <td>1</td>\n",
              "    </tr>\n",
              "    <tr>\n",
              "      <th>6194</th>\n",
              "      <td>1</td>\n",
              "      <td>2769</td>\n",
              "      <td>5</td>\n",
              "      <td>0</td>\n",
              "      <td>10</td>\n",
              "      <td>2</td>\n",
              "      <td>1</td>\n",
              "    </tr>\n",
              "    <tr>\n",
              "      <th>4361</th>\n",
              "      <td>1</td>\n",
              "      <td>1620</td>\n",
              "      <td>4</td>\n",
              "      <td>0</td>\n",
              "      <td>11</td>\n",
              "      <td>15</td>\n",
              "      <td>1</td>\n",
              "    </tr>\n",
              "  </tbody>\n",
              "</table>\n",
              "<p>9332 rows × 7 columns</p>\n",
              "</div>"
            ],
            "text/plain": [
              "      periodo  totalactiva  clase  estrato  municipio  ciclo  ubicacion\n",
              "8489        2          186      6        0         36     76          1\n",
              "8375        2           43      6        0         28     55          1\n",
              "8546        2          144      6        0         34     71          1\n",
              "5771        2         6227      5        0         12      2          1\n",
              "3820        2          206      4        0         17     15          1\n",
              "...       ...          ...    ...      ...        ...    ...        ...\n",
              "5156        3          438      4        0         32     75          1\n",
              "9936        3           29      6        0         25     61          1\n",
              "8177        2           10      6        0         18     21          1\n",
              "6194        1         2769      5        0         10      2          1\n",
              "4361        1         1620      4        0         11     15          1\n",
              "\n",
              "[9332 rows x 7 columns]"
            ]
          },
          "metadata": {},
          "execution_count": 54
        }
      ]
    },
    {
      "cell_type": "markdown",
      "metadata": {
        "id": "MtjwYmsh6nj1"
      },
      "source": [
        "separamos las variables predictoras de la variable qeu quiero predecir"
      ]
    },
    {
      "cell_type": "code",
      "metadata": {
        "colab": {
          "base_uri": "https://localhost:8080/"
        },
        "id": "-EJCxwxC6uN8",
        "outputId": "ced9f640-8fe8-4ff0-dd40-3c5f416b62ed"
      },
      "source": [
        "etiquetas_entrenamiento=datos_entrenamiento.pop('totalactiva')\n",
        "etiquetas_test=datos_test.pop('totalactiva')\n",
        "etiquetas_entrenamiento"
      ],
      "execution_count": null,
      "outputs": [
        {
          "output_type": "execute_result",
          "data": {
            "text/plain": [
              "8489     186\n",
              "8375      43\n",
              "8546     144\n",
              "5771    6227\n",
              "3820     206\n",
              "        ... \n",
              "5156     438\n",
              "9936      29\n",
              "8177      10\n",
              "6194    2769\n",
              "4361    1620\n",
              "Name: totalactiva, Length: 9332, dtype: int64"
            ]
          },
          "metadata": {},
          "execution_count": 55
        }
      ]
    },
    {
      "cell_type": "code",
      "metadata": {
        "colab": {
          "base_uri": "https://localhost:8080/",
          "height": 419
        },
        "id": "DB3Kz1HG7EKv",
        "outputId": "791b7d1b-7b32-4268-9f71-9cdc311ec962"
      },
      "source": [
        "datos_entrenamiento"
      ],
      "execution_count": null,
      "outputs": [
        {
          "output_type": "execute_result",
          "data": {
            "text/html": [
              "<div>\n",
              "<style scoped>\n",
              "    .dataframe tbody tr th:only-of-type {\n",
              "        vertical-align: middle;\n",
              "    }\n",
              "\n",
              "    .dataframe tbody tr th {\n",
              "        vertical-align: top;\n",
              "    }\n",
              "\n",
              "    .dataframe thead th {\n",
              "        text-align: right;\n",
              "    }\n",
              "</style>\n",
              "<table border=\"1\" class=\"dataframe\">\n",
              "  <thead>\n",
              "    <tr style=\"text-align: right;\">\n",
              "      <th></th>\n",
              "      <th>periodo</th>\n",
              "      <th>clase</th>\n",
              "      <th>estrato</th>\n",
              "      <th>municipio</th>\n",
              "      <th>ciclo</th>\n",
              "      <th>ubicacion</th>\n",
              "    </tr>\n",
              "  </thead>\n",
              "  <tbody>\n",
              "    <tr>\n",
              "      <th>8489</th>\n",
              "      <td>2</td>\n",
              "      <td>6</td>\n",
              "      <td>0</td>\n",
              "      <td>36</td>\n",
              "      <td>76</td>\n",
              "      <td>1</td>\n",
              "    </tr>\n",
              "    <tr>\n",
              "      <th>8375</th>\n",
              "      <td>2</td>\n",
              "      <td>6</td>\n",
              "      <td>0</td>\n",
              "      <td>28</td>\n",
              "      <td>55</td>\n",
              "      <td>1</td>\n",
              "    </tr>\n",
              "    <tr>\n",
              "      <th>8546</th>\n",
              "      <td>2</td>\n",
              "      <td>6</td>\n",
              "      <td>0</td>\n",
              "      <td>34</td>\n",
              "      <td>71</td>\n",
              "      <td>1</td>\n",
              "    </tr>\n",
              "    <tr>\n",
              "      <th>5771</th>\n",
              "      <td>2</td>\n",
              "      <td>5</td>\n",
              "      <td>0</td>\n",
              "      <td>12</td>\n",
              "      <td>2</td>\n",
              "      <td>1</td>\n",
              "    </tr>\n",
              "    <tr>\n",
              "      <th>3820</th>\n",
              "      <td>2</td>\n",
              "      <td>4</td>\n",
              "      <td>0</td>\n",
              "      <td>17</td>\n",
              "      <td>15</td>\n",
              "      <td>1</td>\n",
              "    </tr>\n",
              "    <tr>\n",
              "      <th>...</th>\n",
              "      <td>...</td>\n",
              "      <td>...</td>\n",
              "      <td>...</td>\n",
              "      <td>...</td>\n",
              "      <td>...</td>\n",
              "      <td>...</td>\n",
              "    </tr>\n",
              "    <tr>\n",
              "      <th>5156</th>\n",
              "      <td>3</td>\n",
              "      <td>4</td>\n",
              "      <td>0</td>\n",
              "      <td>32</td>\n",
              "      <td>75</td>\n",
              "      <td>1</td>\n",
              "    </tr>\n",
              "    <tr>\n",
              "      <th>9936</th>\n",
              "      <td>3</td>\n",
              "      <td>6</td>\n",
              "      <td>0</td>\n",
              "      <td>25</td>\n",
              "      <td>61</td>\n",
              "      <td>1</td>\n",
              "    </tr>\n",
              "    <tr>\n",
              "      <th>8177</th>\n",
              "      <td>2</td>\n",
              "      <td>6</td>\n",
              "      <td>0</td>\n",
              "      <td>18</td>\n",
              "      <td>21</td>\n",
              "      <td>1</td>\n",
              "    </tr>\n",
              "    <tr>\n",
              "      <th>6194</th>\n",
              "      <td>1</td>\n",
              "      <td>5</td>\n",
              "      <td>0</td>\n",
              "      <td>10</td>\n",
              "      <td>2</td>\n",
              "      <td>1</td>\n",
              "    </tr>\n",
              "    <tr>\n",
              "      <th>4361</th>\n",
              "      <td>1</td>\n",
              "      <td>4</td>\n",
              "      <td>0</td>\n",
              "      <td>11</td>\n",
              "      <td>15</td>\n",
              "      <td>1</td>\n",
              "    </tr>\n",
              "  </tbody>\n",
              "</table>\n",
              "<p>9332 rows × 6 columns</p>\n",
              "</div>"
            ],
            "text/plain": [
              "      periodo  clase  estrato  municipio  ciclo  ubicacion\n",
              "8489        2      6        0         36     76          1\n",
              "8375        2      6        0         28     55          1\n",
              "8546        2      6        0         34     71          1\n",
              "5771        2      5        0         12      2          1\n",
              "3820        2      4        0         17     15          1\n",
              "...       ...    ...      ...        ...    ...        ...\n",
              "5156        3      4        0         32     75          1\n",
              "9936        3      6        0         25     61          1\n",
              "8177        2      6        0         18     21          1\n",
              "6194        1      5        0         10      2          1\n",
              "4361        1      4        0         11     15          1\n",
              "\n",
              "[9332 rows x 6 columns]"
            ]
          },
          "metadata": {},
          "execution_count": 56
        }
      ]
    },
    {
      "cell_type": "markdown",
      "metadata": {
        "id": "Cs5XVD707iWd"
      },
      "source": [
        "entrenamos el modelo"
      ]
    },
    {
      "cell_type": "code",
      "metadata": {
        "colab": {
          "base_uri": "https://localhost:8080/"
        },
        "id": "Wrk9Rh5P7RVb",
        "outputId": "e53d90c7-aa0f-409b-e4ea-b1b5740cd166"
      },
      "source": [
        "from sklearn.linear_model import LinearRegression\n",
        "modelo=LinearRegression()\n",
        "modelo.fit(datos_entrenamiento, etiquetas_entrenamiento)"
      ],
      "execution_count": null,
      "outputs": [
        {
          "output_type": "execute_result",
          "data": {
            "text/plain": [
              "LinearRegression(copy_X=True, fit_intercept=True, n_jobs=None, normalize=False)"
            ]
          },
          "metadata": {},
          "execution_count": 57
        }
      ]
    },
    {
      "cell_type": "code",
      "metadata": {
        "colab": {
          "base_uri": "https://localhost:8080/"
        },
        "id": "PKlH8lLp7o1E",
        "outputId": "996d16e6-ee8c-42e2-ccf1-617288d8efbf"
      },
      "source": [
        "predicciones=modelo.predict(datos_test)\n",
        "predicciones"
      ],
      "execution_count": null,
      "outputs": [
        {
          "output_type": "execute_result",
          "data": {
            "text/plain": [
              "array([3588.80060257, 3657.29416883, 3203.65884063, ...,  169.95530628,\n",
              "        169.95530628,  169.95530628])"
            ]
          },
          "metadata": {},
          "execution_count": 58
        }
      ]
    },
    {
      "cell_type": "code",
      "metadata": {
        "colab": {
          "base_uri": "https://localhost:8080/"
        },
        "id": "G9xtct5279bP",
        "outputId": "47407c7f-1a89-4630-ca24-c3f3314b7167"
      },
      "source": [
        "import numpy as np\n",
        "from sklearn.metrics import mean_squared_error\n",
        "\n",
        "error= np.sqrt(mean_squared_error(etiquetas_test, predicciones))\n",
        "print(\"error porcentual : %f\"%(error*100))"
      ],
      "execution_count": null,
      "outputs": [
        {
          "output_type": "stream",
          "name": "stdout",
          "text": [
            "error porcentual : 514091.536858\n"
          ]
        }
      ]
    },
    {
      "cell_type": "code",
      "metadata": {
        "colab": {
          "base_uri": "https://localhost:8080/"
        },
        "id": "PdRaED5q83O0",
        "outputId": "b9f2f87a-0d6b-4e87-db27-d33cae6fcb23"
      },
      "source": [
        "etiquetas_test"
      ],
      "execution_count": null,
      "outputs": [
        {
          "output_type": "execute_result",
          "data": {
            "text/plain": [
              "0        10850\n",
              "21         101\n",
              "25          12\n",
              "28         161\n",
              "62          63\n",
              "         ...  \n",
              "10305       30\n",
              "10320        2\n",
              "10327       17\n",
              "10336       49\n",
              "10340        3\n",
              "Name: totalactiva, Length: 1037, dtype: int64"
            ]
          },
          "metadata": {},
          "execution_count": 62
        }
      ]
    },
    {
      "cell_type": "code",
      "metadata": {
        "colab": {
          "base_uri": "https://localhost:8080/",
          "height": 80
        },
        "id": "iHHRwBNo9Bec",
        "outputId": "a6fede49-ebc4-4729-97cb-39aa94372efd"
      },
      "source": [
        "nuevo_consumo=pd.DataFrame(np.array([[1,3,4,39,39,1]]), columns=['periodo',\t'clase',\t'estrato',\t'municipio',\t'ciclo',\t'ubicacion'])\n",
        "nuevo_consumo"
      ],
      "execution_count": null,
      "outputs": [
        {
          "output_type": "execute_result",
          "data": {
            "text/html": [
              "<div>\n",
              "<style scoped>\n",
              "    .dataframe tbody tr th:only-of-type {\n",
              "        vertical-align: middle;\n",
              "    }\n",
              "\n",
              "    .dataframe tbody tr th {\n",
              "        vertical-align: top;\n",
              "    }\n",
              "\n",
              "    .dataframe thead th {\n",
              "        text-align: right;\n",
              "    }\n",
              "</style>\n",
              "<table border=\"1\" class=\"dataframe\">\n",
              "  <thead>\n",
              "    <tr style=\"text-align: right;\">\n",
              "      <th></th>\n",
              "      <th>periodo</th>\n",
              "      <th>clase</th>\n",
              "      <th>estrato</th>\n",
              "      <th>municipio</th>\n",
              "      <th>ciclo</th>\n",
              "      <th>ubicacion</th>\n",
              "    </tr>\n",
              "  </thead>\n",
              "  <tbody>\n",
              "    <tr>\n",
              "      <th>0</th>\n",
              "      <td>1</td>\n",
              "      <td>3</td>\n",
              "      <td>4</td>\n",
              "      <td>39</td>\n",
              "      <td>39</td>\n",
              "      <td>1</td>\n",
              "    </tr>\n",
              "  </tbody>\n",
              "</table>\n",
              "</div>"
            ],
            "text/plain": [
              "   periodo  clase  estrato  municipio  ciclo  ubicacion\n",
              "0        1      3        4         39     39          1"
            ]
          },
          "metadata": {},
          "execution_count": 63
        }
      ]
    },
    {
      "cell_type": "code",
      "metadata": {
        "id": "QzS4Rr84-X_W",
        "colab": {
          "base_uri": "https://localhost:8080/"
        },
        "outputId": "ff7d6a3b-b638-440e-f8fc-ee8759a12eee"
      },
      "source": [
        "modelo.predict(nuevo_consumo)"
      ],
      "execution_count": null,
      "outputs": [
        {
          "output_type": "execute_result",
          "data": {
            "text/plain": [
              "array([681.63858947])"
            ]
          },
          "metadata": {},
          "execution_count": 64
        }
      ]
    }
  ]
}